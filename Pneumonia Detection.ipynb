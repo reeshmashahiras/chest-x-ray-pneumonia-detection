{
 "cells": [
  {
   "cell_type": "code",
   "execution_count": 1,
   "id": "9c835f7a-4f15-4fca-a1cb-d03e8a479472",
   "metadata": {},
   "outputs": [
    {
     "name": "stdout",
     "output_type": "stream",
     "text": [
      "Defaulting to user installation because normal site-packages is not writeable\n",
      "Requirement already satisfied: scikit-learn-intelex in /home/uebc3891a59b2ddbcb1e306e11ccedf2/.local/lib/python3.9/site-packages (2024.2.0)\n",
      "Requirement already satisfied: daal4py==2024.2.0 in /home/uebc3891a59b2ddbcb1e306e11ccedf2/.local/lib/python3.9/site-packages (from scikit-learn-intelex) (2024.2.0)\n",
      "Requirement already satisfied: scikit-learn>=0.22 in /opt/intel/oneapi/intelpython/lib/python3.9/site-packages (from scikit-learn-intelex) (1.3.1)\n",
      "Requirement already satisfied: daal==2024.2.0 in /home/uebc3891a59b2ddbcb1e306e11ccedf2/.local/lib/python3.9/site-packages (from daal4py==2024.2.0->scikit-learn-intelex) (2024.2.0)\n",
      "Requirement already satisfied: numpy>=1.19 in /opt/intel/oneapi/intelpython/lib/python3.9/site-packages (from daal4py==2024.2.0->scikit-learn-intelex) (1.24.3)\n",
      "Requirement already satisfied: tbb==2021.* in /home/uebc3891a59b2ddbcb1e306e11ccedf2/.local/lib/python3.9/site-packages (from daal==2024.2.0->daal4py==2024.2.0->scikit-learn-intelex) (2021.12.0)\n",
      "Requirement already satisfied: scipy>=1.5.0 in /opt/intel/oneapi/intelpython/lib/python3.9/site-packages (from scikit-learn>=0.22->scikit-learn-intelex) (1.10.1)\n",
      "Requirement already satisfied: joblib>=1.1.1 in /opt/intel/oneapi/intelpython/lib/python3.9/site-packages (from scikit-learn>=0.22->scikit-learn-intelex) (1.3.2)\n",
      "Requirement already satisfied: threadpoolctl>=2.0.0 in /opt/intel/oneapi/intelpython/lib/python3.9/site-packages (from scikit-learn>=0.22->scikit-learn-intelex) (3.2.0)\n"
     ]
    }
   ],
   "source": [
    "!pip install scikit-learn-intelex"
   ]
  },
  {
   "cell_type": "code",
   "execution_count": 2,
   "id": "c179f5a9-fd4d-4419-ac7f-a1327b1e0885",
   "metadata": {},
   "outputs": [
    {
     "name": "stderr",
     "output_type": "stream",
     "text": [
      "Intel(R) Extension for Scikit-learn* enabled (https://github.com/intel/scikit-learn-intelex)\n"
     ]
    }
   ],
   "source": [
    "from sklearnex import patch_sklearn\n",
    "patch_sklearn()\n"
   ]
  },
  {
   "cell_type": "code",
   "execution_count": 3,
   "id": "4127c60c-ee9f-4a99-a28e-5ab14406f23e",
   "metadata": {},
   "outputs": [],
   "source": [
    "import os\n",
    "os.environ['TF_ENABLE_ONEDNN_OPTS'] = '1'\n",
    "os.environ['TF_ENABLE_AUTO_MIXED_PRECISION'] = '1'"
   ]
  },
  {
   "cell_type": "code",
   "execution_count": 4,
   "id": "3c21bfab-dd99-4bba-9d26-b9cf3385ee79",
   "metadata": {},
   "outputs": [
    {
     "name": "stdout",
     "output_type": "stream",
     "text": [
      "Defaulting to user installation because normal site-packages is not writeable\n",
      "Requirement already satisfied: onednn in /home/uebc3891a59b2ddbcb1e306e11ccedf2/.local/lib/python3.9/site-packages (2024.1.0)\n",
      "Requirement already satisfied: intel-opencl-rt==2024.* in /home/uebc3891a59b2ddbcb1e306e11ccedf2/.local/lib/python3.9/site-packages (from onednn) (2024.1.0)\n",
      "Requirement already satisfied: dpcpp-cpp-rt==2024.* in /home/uebc3891a59b2ddbcb1e306e11ccedf2/.local/lib/python3.9/site-packages (from onednn) (2024.1.0)\n",
      "Requirement already satisfied: intel-openmp==2024.1.0 in /home/uebc3891a59b2ddbcb1e306e11ccedf2/.local/lib/python3.9/site-packages (from dpcpp-cpp-rt==2024.*->onednn) (2024.1.0)\n",
      "Requirement already satisfied: intel-cmplr-lib-rt==2024.1.0 in /home/uebc3891a59b2ddbcb1e306e11ccedf2/.local/lib/python3.9/site-packages (from dpcpp-cpp-rt==2024.*->onednn) (2024.1.0)\n",
      "Requirement already satisfied: intel-cmplr-lic-rt==2024.1.0 in /home/uebc3891a59b2ddbcb1e306e11ccedf2/.local/lib/python3.9/site-packages (from dpcpp-cpp-rt==2024.*->onednn) (2024.1.0)\n",
      "Requirement already satisfied: tbb==2021.* in /home/uebc3891a59b2ddbcb1e306e11ccedf2/.local/lib/python3.9/site-packages (from intel-opencl-rt==2024.*->onednn) (2021.12.0)\n"
     ]
    }
   ],
   "source": [
    "!pip install onednn"
   ]
  },
  {
   "cell_type": "code",
   "execution_count": 5,
   "id": "810769a9-260c-4b7e-b2c1-c84b85cced9f",
   "metadata": {},
   "outputs": [
    {
     "name": "stderr",
     "output_type": "stream",
     "text": [
      "2024-04-14 06:14:52.362318: I tensorflow/core/util/port.cc:111] oneDNN custom operations are on. You may see slightly different numerical results due to floating-point round-off errors from different computation orders. To turn them off, set the environment variable `TF_ENABLE_ONEDNN_OPTS=0`.\n",
      "2024-04-14 06:14:52.389110: I tensorflow/core/platform/cpu_feature_guard.cc:182] This TensorFlow binary is optimized to use available CPU instructions in performance-critical operations.\n",
      "To enable the following instructions: SSE3 SSE4.1 SSE4.2 AVX AVX2 AVX512F AVX512_VNNI AVX512_BF16 AVX_VNNI AMX_TILE AMX_INT8 AMX_BF16 FMA, in other operations, rebuild TensorFlow with the appropriate compiler flags.\n",
      "2024-04-14 06:14:53.294149: I itex/core/wrapper/itex_cpu_wrapper.cc:42] Intel Extension for Tensorflow* AVX512 CPU backend is loaded.\n",
      "2024-04-14 06:14:53.759726: I itex/core/wrapper/itex_gpu_wrapper.cc:35] Intel Extension for Tensorflow* GPU backend is loaded.\n",
      "2024-04-14 06:14:53.795151: W itex/core/ops/op_init.cc:58] Op: _QuantizedMaxPool3D is already registered in Tensorflow\n",
      "2024-04-14 06:14:53.817477: I itex/core/devices/gpu/itex_gpu_runtime.cc:129] Selected platform: Intel(R) Level-Zero\n",
      "2024-04-14 06:14:53.817497: I itex/core/devices/gpu/itex_gpu_runtime.cc:154] number of sub-devices is zero, expose root device.\n"
     ]
    }
   ],
   "source": [
    "import tensorflow as tf\n"
   ]
  },
  {
   "cell_type": "code",
   "execution_count": 6,
   "id": "71c81b6d-e956-47d1-b834-f7209a0dbbff",
   "metadata": {},
   "outputs": [
    {
     "name": "stdout",
     "output_type": "stream",
     "text": [
      "Defaulting to user installation because normal site-packages is not writeable\n",
      "Requirement already satisfied: numba in /home/uebc3891a59b2ddbcb1e306e11ccedf2/.local/lib/python3.9/site-packages (0.59.1)\n",
      "Requirement already satisfied: llvmlite<0.43,>=0.42.0dev0 in /home/uebc3891a59b2ddbcb1e306e11ccedf2/.local/lib/python3.9/site-packages (from numba) (0.42.0)\n",
      "Requirement already satisfied: numpy<1.27,>=1.22 in /opt/intel/oneapi/intelpython/envs/tensorflow-gpu/lib/python3.9/site-packages (from numba) (1.24.3)\n",
      "Note: you may need to restart the kernel to use updated packages.\n"
     ]
    }
   ],
   "source": [
    "pip install numba"
   ]
  },
  {
   "cell_type": "code",
   "execution_count": 7,
   "id": "6cb95e5e-8b5a-42d2-bf3d-514521e9d75e",
   "metadata": {},
   "outputs": [],
   "source": [
    "from numba import jit, njit\n",
    "from scipy import special\n"
   ]
  },
  {
   "cell_type": "code",
   "execution_count": 8,
   "id": "b739102e-a871-45e9-8908-de61412cdf7a",
   "metadata": {},
   "outputs": [
    {
     "data": {
      "text/plain": [
       "112"
      ]
     },
     "execution_count": 8,
     "metadata": {},
     "output_type": "execute_result"
    }
   ],
   "source": [
    "import mkl\n",
    "mkl.set_num_threads(4)"
   ]
  },
  {
   "cell_type": "code",
   "execution_count": 9,
   "id": "7b4a7177-203a-4131-b0e4-87655929a6c0",
   "metadata": {},
   "outputs": [],
   "source": [
    "tf.compat.v1.disable_eager_execution()"
   ]
  },
  {
   "cell_type": "code",
   "execution_count": 10,
   "id": "5b2aaa8d-1f5d-4442-81cb-c03650b57391",
   "metadata": {},
   "outputs": [],
   "source": [
    "tf.config.set_visible_devices([], 'GPU')"
   ]
  },
  {
   "cell_type": "code",
   "execution_count": 11,
   "id": "74b09b65-d7f4-4873-9d44-5e17cdb379d4",
   "metadata": {},
   "outputs": [],
   "source": [
    "from tensorflow.keras.layers import Input, Flatten, Dense\n",
    "from tensorflow.keras.models import Model\n",
    "from tensorflow.keras.applications.vgg16 import VGG16\n",
    "from tensorflow.keras.preprocessing.image import ImageDataGenerator"
   ]
  },
  {
   "cell_type": "code",
   "execution_count": 12,
   "id": "70ac2a23-2ed2-4914-a060-160e9e56af9c",
   "metadata": {},
   "outputs": [
    {
     "name": "stderr",
     "output_type": "stream",
     "text": [
      "2024-04-14 06:14:56.488076: I tensorflow/core/common_runtime/pluggable_device/pluggable_device_factory.cc:306] Could not identify NUMA node of platform XPU ID 0, defaulting to 0. Your kernel may not have been built with NUMA support.\n",
      "2024-04-14 06:14:56.488134: I tensorflow/core/common_runtime/pluggable_device/pluggable_device_factory.cc:272] Created TensorFlow device (/job:localhost/replica:0/task:0/device:XPU:0 with 0 MB memory) -> physical PluggableDevice (device: 0, name: XPU, pci bus id: <undefined>)\n",
      "2024-04-14 06:14:56.495964: I tensorflow/compiler/mlir/mlir_graph_optimization_pass.cc:382] MLIR V1 optimization pass is not enabled\n",
      "2024-04-14 06:14:56.508138: I tensorflow/core/grappler/optimizers/custom_graph_optimizer_registry.cc:117] Plugin optimizer for device_type XPU is enabled.\n",
      "2024-04-14 06:14:56.528438: W tensorflow/c/c_api.cc:305] Operation '{name:'block5_conv1/bias/Assign' id:264 op device:{requested: '', assigned: ''} def:{{{node block5_conv1/bias/Assign}} = AssignVariableOp[_has_manual_control_dependencies=true, dtype=DT_FLOAT, validate_shape=false](block5_conv1/bias, block5_conv1/bias/Initializer/zeros)}}' was changed by setting attribute after it was run by a session. This mutation will have no effect, and will trigger an error in the future. Either don't modify nodes after running them or create a new session.\n",
      "2024-04-14 06:14:56.588131: W itex/core/utils/op_kernel.cc:355] itex/core/kernels/cpu/fused_binary_op.cc: 86Unimplemented: block4_conv1/kernel/Initializer/stateless_random_uniform Unsupported shape in FusedBinary: []\n",
      "2024-04-14 06:14:56.597203: W itex/core/utils/op_kernel.cc:355] itex/core/kernels/cpu/fused_binary_op.cc: 86Unimplemented: block5_conv1/kernel/Initializer/stateless_random_uniform Unsupported shape in FusedBinary: []\n",
      "2024-04-14 06:14:56.597216: W itex/core/utils/op_kernel.cc:355] itex/core/kernels/cpu/fused_binary_op.cc: 86Unimplemented: block4_conv2/kernel/Initializer/stateless_random_uniform Unsupported shape in FusedBinary: []\n",
      "2024-04-14 06:14:56.604836: W itex/core/utils/op_kernel.cc:355] itex/core/kernels/cpu/fused_binary_op.cc: 86Unimplemented: block5_conv2/kernel/Initializer/stateless_random_uniform Unsupported shape in FusedBinary: []\n",
      "2024-04-14 06:14:56.605021: W itex/core/utils/op_kernel.cc:355] itex/core/kernels/cpu/fused_binary_op.cc: 86Unimplemented: block1_conv2/kernel/Initializer/stateless_random_uniform Unsupported shape in FusedBinary: []\n",
      "2024-04-14 06:14:56.606925: W itex/core/utils/op_kernel.cc:355] itex/core/kernels/cpu/fused_binary_op.cc: 86Unimplemented: block3_conv2/kernel/Initializer/stateless_random_uniform Unsupported shape in FusedBinary: []\n",
      "2024-04-14 06:14:56.607410: W itex/core/utils/op_kernel.cc:355] itex/core/kernels/cpu/fused_binary_op.cc: 86Unimplemented: block2_conv2/kernel/Initializer/stateless_random_uniform Unsupported shape in FusedBinary: []\n",
      "2024-04-14 06:14:56.615008: W itex/core/utils/op_kernel.cc:355] itex/core/kernels/cpu/fused_binary_op.cc: 86Unimplemented: block4_conv3/kernel/Initializer/stateless_random_uniform Unsupported shape in FusedBinary: []\n",
      "2024-04-14 06:14:56.624240: W itex/core/utils/op_kernel.cc:355] itex/core/kernels/cpu/fused_binary_op.cc: 86Unimplemented: block5_conv3/kernel/Initializer/stateless_random_uniform Unsupported shape in FusedBinary: []\n",
      "2024-04-14 06:14:56.626152: W itex/core/utils/op_kernel.cc:355] itex/core/kernels/cpu/fused_binary_op.cc: 86Unimplemented: block3_conv3/kernel/Initializer/stateless_random_uniform Unsupported shape in FusedBinary: []\n",
      "2024-04-14 06:14:56.626161: W itex/core/utils/op_kernel.cc:355] itex/core/kernels/cpu/fused_binary_op.cc: 86Unimplemented: block3_conv1/kernel/Initializer/stateless_random_uniform Unsupported shape in FusedBinary: []\n",
      "2024-04-14 06:14:56.626165: W itex/core/utils/op_kernel.cc:355] itex/core/kernels/cpu/fused_binary_op.cc: 86Unimplemented: block2_conv1/kernel/Initializer/stateless_random_uniform Unsupported shape in FusedBinary: []\n",
      "2024-04-14 06:14:56.635146: W itex/core/utils/op_kernel.cc:355] itex/core/kernels/cpu/fused_binary_op.cc: 86Unimplemented: block2_conv2/kernel/Initializer/stateless_random_uniform Unsupported shape in FusedBinary: []\n",
      "2024-04-14 06:14:56.635405: W itex/core/utils/op_kernel.cc:355] itex/core/kernels/cpu/fused_binary_op.cc: 86Unimplemented: block2_conv1/kernel/Initializer/stateless_random_uniform Unsupported shape in FusedBinary: []\n",
      "2024-04-14 06:14:56.635582: W itex/core/utils/op_kernel.cc:355] itex/core/kernels/cpu/fused_binary_op.cc: 86Unimplemented: block1_conv2/kernel/Initializer/stateless_random_uniform Unsupported shape in FusedBinary: []\n",
      "2024-04-14 06:14:56.645809: W itex/core/utils/op_kernel.cc:355] itex/core/kernels/cpu/fused_binary_op.cc: 86Unimplemented: block5_conv1/kernel/Initializer/stateless_random_uniform Unsupported shape in FusedBinary: []\n",
      "2024-04-14 06:14:56.649635: W itex/core/utils/op_kernel.cc:355] itex/core/kernels/cpu/fused_binary_op.cc: 86Unimplemented: block4_conv1/kernel/Initializer/stateless_random_uniform Unsupported shape in FusedBinary: []\n",
      "2024-04-14 06:14:56.652511: W itex/core/utils/op_kernel.cc:355] itex/core/kernels/cpu/fused_binary_op.cc: 86Unimplemented: block3_conv1/kernel/Initializer/stateless_random_uniform Unsupported shape in FusedBinary: []\n",
      "2024-04-14 06:14:56.660812: W itex/core/utils/op_kernel.cc:355] itex/core/kernels/cpu/fused_binary_op.cc: 86Unimplemented: block5_conv3/kernel/Initializer/stateless_random_uniform Unsupported shape in FusedBinary: []\n",
      "2024-04-14 06:14:56.660823: W itex/core/utils/op_kernel.cc:355] itex/core/kernels/cpu/fused_binary_op.cc: 86Unimplemented: block5_conv2/kernel/Initializer/stateless_random_uniform Unsupported shape in FusedBinary: []\n",
      "2024-04-14 06:14:56.668461: W itex/core/utils/op_kernel.cc:355] itex/core/kernels/cpu/fused_binary_op.cc: 86Unimplemented: block4_conv3/kernel/Initializer/stateless_random_uniform Unsupported shape in FusedBinary: []\n",
      "2024-04-14 06:14:56.676085: W itex/core/utils/op_kernel.cc:355] itex/core/kernels/cpu/fused_binary_op.cc: 86Unimplemented: block4_conv2/kernel/Initializer/stateless_random_uniform Unsupported shape in FusedBinary: []\n",
      "2024-04-14 06:14:56.676096: W itex/core/utils/op_kernel.cc:355] itex/core/kernels/cpu/fused_binary_op.cc: 86Unimplemented: block3_conv3/kernel/Initializer/stateless_random_uniform Unsupported shape in FusedBinary: []\n",
      "2024-04-14 06:14:56.676100: W itex/core/utils/op_kernel.cc:355] itex/core/kernels/cpu/fused_binary_op.cc: 86Unimplemented: block3_conv2/kernel/Initializer/stateless_random_uniform Unsupported shape in FusedBinary: []\n"
     ]
    }
   ],
   "source": [
    "vgg = VGG16(input_shape=(224, 224, 3), weights='imagenet', include_top=False)"
   ]
  },
  {
   "cell_type": "code",
   "execution_count": 13,
   "id": "51567b80-cf4b-48c5-832a-ec5fff072883",
   "metadata": {},
   "outputs": [],
   "source": [
    "# Freeze VGG16 layers\n",
    "for layer in vgg.layers:\n",
    "    layer.trainable = False"
   ]
  },
  {
   "cell_type": "code",
   "execution_count": 14,
   "id": "357595c8-98c1-4877-9a78-95769ea31305",
   "metadata": {},
   "outputs": [],
   "source": [
    "# Add a custom top layer for classification\n",
    "input_tensor = Input(shape=(224, 224, 3))\n",
    "x = vgg(input_tensor)\n",
    "x = Flatten()(x)\n",
    "output_tensor = Dense(units=2, activation='softmax')(x)  # Assuming binary classification"
   ]
  },
  {
   "cell_type": "code",
   "execution_count": 15,
   "id": "f8ef9147-a53e-444e-ae9d-25553aee2b3a",
   "metadata": {},
   "outputs": [],
   "source": [
    "# Create model\n",
    "model = Model(inputs=input_tensor, outputs=output_tensor)"
   ]
  },
  {
   "cell_type": "code",
   "execution_count": 16,
   "id": "b7fe5059-14b1-4966-aaf5-64252fdb634f",
   "metadata": {},
   "outputs": [],
   "source": [
    "# Compile model with Intel optimized Adam optimizer\n",
    "model.compile(loss='categorical_crossentropy',\n",
    "              optimizer='adam',\n",
    "              metrics=['accuracy'])"
   ]
  },
  {
   "cell_type": "code",
   "execution_count": 17,
   "id": "d973a5be-496d-4f8f-8b9c-b30f391b6c20",
   "metadata": {},
   "outputs": [
    {
     "name": "stdout",
     "output_type": "stream",
     "text": [
      "Model: \"model\"\n",
      "_________________________________________________________________\n",
      " Layer (type)                Output Shape              Param #   \n",
      "=================================================================\n",
      " input_2 (InputLayer)        [(None, 224, 224, 3)]     0         \n",
      "                                                                 \n",
      " vgg16 (Functional)          (None, 7, 7, 512)         14714688  \n",
      "                                                                 \n",
      " flatten (Flatten)           (None, 25088)             0         \n",
      "                                                                 \n",
      " dense (Dense)               (None, 2)                 50178     \n",
      "                                                                 \n",
      "=================================================================\n",
      "Total params: 14764866 (56.32 MB)\n",
      "Trainable params: 50178 (196.01 KB)\n",
      "Non-trainable params: 14714688 (56.13 MB)\n",
      "_________________________________________________________________\n"
     ]
    }
   ],
   "source": [
    "# Print model summary\n",
    "model.summary()"
   ]
  },
  {
   "cell_type": "code",
   "execution_count": 18,
   "id": "2c2366ac-63ef-454d-b7b0-d42cef296616",
   "metadata": {},
   "outputs": [],
   "source": [
    "\n",
    "\n",
    "# Set up data generators with Intel optimized ImageDataGenerator\n",
    "train_datagen = ImageDataGenerator(rescale=1./255,\n",
    "                                   shear_range=0.2,\n",
    "                                   zoom_range=0.2,\n",
    "                                   horizontal_flip=True)\n",
    "\n",
    "test_datagen = ImageDataGenerator(rescale=1./255)"
   ]
  },
  {
   "cell_type": "code",
   "execution_count": 19,
   "id": "a6d37fc6-071f-4de5-af19-b94db07c92c0",
   "metadata": {},
   "outputs": [
    {
     "name": "stdout",
     "output_type": "stream",
     "text": [
      "Defaulting to user installation because normal site-packages is not writeable\n",
      "Requirement already satisfied: opendatasets in /home/uebc3891a59b2ddbcb1e306e11ccedf2/.local/lib/python3.9/site-packages (0.1.22)\n",
      "Requirement already satisfied: tqdm in /home/uebc3891a59b2ddbcb1e306e11ccedf2/.local/lib/python3.9/site-packages (from opendatasets) (4.66.2)\n",
      "Requirement already satisfied: kaggle in /home/uebc3891a59b2ddbcb1e306e11ccedf2/.local/lib/python3.9/site-packages (from opendatasets) (1.6.6)\n",
      "Requirement already satisfied: click in /home/uebc3891a59b2ddbcb1e306e11ccedf2/.local/lib/python3.9/site-packages (from opendatasets) (8.1.7)\n",
      "Requirement already satisfied: six>=1.10 in /opt/intel/oneapi/intelpython/lib/python3.9/site-packages (from kaggle->opendatasets) (1.16.0)\n",
      "Requirement already satisfied: certifi in /opt/intel/oneapi/intelpython/lib/python3.9/site-packages (from kaggle->opendatasets) (2024.2.2)\n",
      "Requirement already satisfied: python-dateutil in /opt/intel/oneapi/intelpython/lib/python3.9/site-packages (from kaggle->opendatasets) (2.8.2)\n",
      "Requirement already satisfied: requests in /opt/intel/oneapi/intelpython/lib/python3.9/site-packages (from kaggle->opendatasets) (2.31.0)\n",
      "Requirement already satisfied: python-slugify in /home/uebc3891a59b2ddbcb1e306e11ccedf2/.local/lib/python3.9/site-packages (from kaggle->opendatasets) (8.0.4)\n",
      "Requirement already satisfied: urllib3 in /opt/intel/oneapi/intelpython/lib/python3.9/site-packages (from kaggle->opendatasets) (2.0.7)\n",
      "Requirement already satisfied: bleach in /home/uebc3891a59b2ddbcb1e306e11ccedf2/.local/lib/python3.9/site-packages (from kaggle->opendatasets) (6.1.0)\n",
      "Requirement already satisfied: webencodings in /home/uebc3891a59b2ddbcb1e306e11ccedf2/.local/lib/python3.9/site-packages (from bleach->kaggle->opendatasets) (0.5.1)\n",
      "Requirement already satisfied: text-unidecode>=1.3 in /home/uebc3891a59b2ddbcb1e306e11ccedf2/.local/lib/python3.9/site-packages (from python-slugify->kaggle->opendatasets) (1.3)\n",
      "Requirement already satisfied: charset-normalizer<4,>=2 in /opt/intel/oneapi/intelpython/lib/python3.9/site-packages (from requests->kaggle->opendatasets) (3.3.0)\n",
      "Requirement already satisfied: idna<4,>=2.5 in /opt/intel/oneapi/intelpython/lib/python3.9/site-packages (from requests->kaggle->opendatasets) (3.4)\n",
      "Skipping, found downloaded files in \"./chest-xray-pneumonia\" (use force=True to force download)\n"
     ]
    }
   ],
   "source": [
    "!pip install opendatasets\n",
    "import opendatasets as od\n",
    "\n",
    "# Download the dataset from Kaggle\n",
    "od.download('https://www.kaggle.com/datasets/paultimothymooney/chest-xray-pneumonia')"
   ]
  },
  {
   "cell_type": "code",
   "execution_count": 20,
   "id": "152911fc-4274-4941-9d17-00d59fbfffc6",
   "metadata": {},
   "outputs": [
    {
     "name": "stdout",
     "output_type": "stream",
     "text": [
      "Found 5216 images belonging to 2 classes.\n"
     ]
    }
   ],
   "source": [
    "# Load training data\n",
    "training_set = train_datagen.flow_from_directory('chest-xray-pneumonia/chest_xray/train',\n",
    "                                                 target_size=(224, 224),\n",
    "                                                 batch_size=10,\n",
    "                                                 class_mode='categorical')"
   ]
  },
  {
   "cell_type": "code",
   "execution_count": 21,
   "id": "0ac6b751-5d1c-471f-af8d-8cf556ea6265",
   "metadata": {},
   "outputs": [
    {
     "name": "stdout",
     "output_type": "stream",
     "text": [
      "Found 624 images belonging to 2 classes.\n"
     ]
    }
   ],
   "source": [
    "# Load testing data\n",
    "test_set = test_datagen.flow_from_directory('chest-xray-pneumonia/chest_xray/test',\n",
    "                                            target_size=(224, 224),\n",
    "                                            batch_size=10,\n",
    "                                            class_mode='categorical')"
   ]
  },
  {
   "cell_type": "code",
   "execution_count": 22,
   "id": "c6520983-4210-4024-b15d-dc99df8d5d94",
   "metadata": {},
   "outputs": [
    {
     "data": {
      "text/plain": [
       "<Figure size 600x400 with 0 Axes>"
      ]
     },
     "metadata": {},
     "output_type": "display_data"
    },
    {
     "data": {
      "image/png": "[encoded data removed]",
      "text/plain": [
       "<Figure size 640x480 with 2 Axes>"
      ]
     },
     "metadata": {},
     "output_type": "display_data"
    }
   ],
   "source": [
    "import numpy as np\n",
    "import matplotlib.pyplot as plt\n",
    "from sklearn.metrics import confusion_matrix, ConfusionMatrixDisplay\n",
    "\n",
    "# Example data (replace this with your actual data)\n",
    "true_labels = np.array([0, 1, 1, 0, 1, 0])\n",
    "predicted_labels = np.array([0, 1, 0, 0, 1, 1])\n",
    "\n",
    "# Create confusion matrix\n",
    "cm = confusion_matrix(true_labels, predicted_labels)\n",
    "\n",
    "# Plot confusion matrix\n",
    "plt.figure(figsize=(6, 4))\n",
    "disp = ConfusionMatrixDisplay(confusion_matrix=cm, display_labels=['Class 0', 'Class 1'])\n",
    "disp.plot(cmap=plt.cm.Blues)\n",
    "plt.title('Confusion Matrix')\n",
    "plt.show()\n"
   ]
  },
  {
   "cell_type": "code",
   "execution_count": null,
   "id": "a13cbdc0-9fcc-4d4d-8fa1-9a3a3babc1c3",
   "metadata": {},
   "outputs": [
    {
     "name": "stderr",
     "output_type": "stream",
     "text": [
      "/tmp/ipykernel_3564325/2874451235.py:2: UserWarning: `model.fit_generator` is deprecated and will be removed in a future version. Please use `Model.fit`, which supports generators.\n",
      "  r = model.fit_generator(\n",
      "2024-04-14 06:14:59.745486: W tensorflow/c/c_api.cc:305] Operation '{name:'count/Assign' id:531 op device:{requested: '', assigned: ''} def:{{{node count/Assign}} = AssignVariableOp[_has_manual_control_dependencies=true, dtype=DT_FLOAT, validate_shape=false](count, count/Initializer/zeros)}}' was changed by setting attribute after it was run by a session. This mutation will have no effect, and will trigger an error in the future. Either don't modify nodes after running them or create a new session.\n",
      "2024-04-14 06:14:59.758338: W itex/core/utils/op_kernel.cc:355] itex/core/kernels/cpu/fused_binary_op.cc: 86Unimplemented: dense/kernel/Initializer/stateless_random_uniform Unsupported shape in FusedBinary: []\n",
      "2024-04-14 06:14:59.921599: W tensorflow/c/c_api.cc:305] Operation '{name:'loss/mul' id:597 op device:{requested: '', assigned: ''} def:{{{node loss/mul}} = Mul[T=DT_FLOAT, _has_manual_control_dependencies=true](loss/mul/x, loss/dense_loss/value)}}' was changed by setting attribute after it was run by a session. This mutation will have no effect, and will trigger an error in the future. Either don't modify nodes after running them or create a new session.\n",
      "2024-04-14 06:14:59.936103: W tensorflow/c/c_api.cc:305] Operation '{name:'training/Adam/beta_2/Assign' id:675 op device:{requested: '', assigned: ''} def:{{{node training/Adam/beta_2/Assign}} = AssignVariableOp[_has_manual_control_dependencies=true, dtype=DT_FLOAT, validate_shape=false](training/Adam/beta_2, training/Adam/beta_2/Initializer/initial_value)}}' was changed by setting attribute after it was run by a session. This mutation will have no effect, and will trigger an error in the future. Either don't modify nodes after running them or create a new session.\n"
     ]
    },
    {
     "name": "stdout",
     "output_type": "stream",
     "text": [
      "277/522 [==============>...............] - ETA: 26s - batch: 138.0000 - size: 10.0000 - loss: 0.2551 - accuracy: 0.9004"
     ]
    }
   ],
   "source": [
    "# Train the model\n",
    "r = model.fit_generator(\n",
    "    training_set,\n",
    "    validation_data=test_set,\n",
    "    epochs=1,\n",
    "    steps_per_epoch=len(training_set),\n",
    "    validation_steps=len(test_set)\n",
    ")"
   ]
  },
  {
   "cell_type": "code",
   "execution_count": null,
   "id": "a48b9d87-21a0-4801-8897-f7e8d16756c7",
   "metadata": {},
   "outputs": [],
   "source": [
    "import numpy as np\n",
    "import matplotlib.pyplot as plt\n",
    "from sklearn.metrics import confusion_matrix, ConfusionMatrixDisplay\n",
    "from keras.preprocessing import image\n",
    "\n",
    "# Example data (replace this with your actual data)\n",
    "true_labels = np.array([0, 1, 1, 0, 1, 0])\n",
    "predicted_labels = np.array([0, 1, 0, 0, 1, 1])\n",
    "\n",
    "# Load original X-ray images from the test set\n",
    "image_paths = [\n",
    "    'chest-xray-pneumonia/chest_xray/test/NORMAL/NORMAL2-IM-0380-0001.jpeg',\n",
    "    'chest-xray-pneumonia/chest_xray/test/NORMAL/NORMAL2-IM-0381-0001.jpeg',\n",
    "    'chest-xray-pneumonia/chest_xray/test/PNEUMONIA/person1_virus_6.jpeg',\n",
    "    'chest-xray-pneumonia/chest_xray/test/PNEUMONIA/person100_bacteria_475.jpeg',\n",
    "    'chest-xray-pneumonia/chest_xray/test/PNEUMONIA/person101_bacteria_483.jpeg',\n",
    "   \n",
    "]\n",
    "\n",
    "# Create confusion matrix\n",
    "cm = confusion_matrix(true_labels, predicted_labels)\n",
    "\n",
    "# Plot original X-ray images\n",
    "fig, axes = plt.subplots(1, 6, figsize=(15, 3))\n",
    "for i, image_path in enumerate(image_paths):\n",
    "    img = image.load_img(image_path, target_size=(224, 224))\n",
    "    axes[i].imshow(img)\n",
    "    axes[i].axis('off')\n",
    "    axes[i].set_title(f'Image {i+1}')\n",
    "\n",
    "# Plot confusion matrix\n",
    "plt.figure(figsize=(6, 4))\n",
    "disp = ConfusionMatrixDisplay(confusion_matrix=cm, display_labels=['Normal', 'Pneumonia'])\n",
    "disp.plot(cmap=plt.cm.Blues)\n",
    "plt.title('Confusion Matrix')\n",
    "plt.show()\n"
   ]
  },
  {
   "cell_type": "code",
   "execution_count": null,
   "id": "9677e7c0-0662-4cd4-b5f2-509b44b11ebc",
   "metadata": {},
   "outputs": [],
   "source": [
    "# Save the model\n",
    "model.save('chest_xray.h5')"
   ]
  },
  {
   "cell_type": "code",
   "execution_count": null,
   "id": "c983e783-69b9-4b5b-a585-a42bba9c62a6",
   "metadata": {},
   "outputs": [],
   "source": [
    "from keras.models import load_model\n",
    "from keras.preprocessing import image\n",
    "from keras.applications.vgg16 import preprocess_input"
   ]
  },
  {
   "cell_type": "code",
   "execution_count": null,
   "id": "eee531f0-4666-4f6a-b867-71b4b23a04b6",
   "metadata": {},
   "outputs": [],
   "source": [
    "import numpy as np"
   ]
  },
  {
   "cell_type": "code",
   "execution_count": null,
   "id": "e4f92904-f7d9-4e97-bcdd-b803b70a20ab",
   "metadata": {},
   "outputs": [],
   "source": [
    "model=load_model('chest_xray.h5')"
   ]
  },
  {
   "cell_type": "code",
   "execution_count": null,
   "id": "0aab561a-189a-42a0-a6eb-1d5e96f7ae71",
   "metadata": {},
   "outputs": [],
   "source": [
    "img=image.load_img('chest-xray-pneumonia/chest_xray/test/NORMAL/NORMAL2-IM-0380-0001.jpeg',target_size=(224,224))"
   ]
  },
  {
   "cell_type": "code",
   "execution_count": null,
   "id": "50467d26-42db-417c-97ba-04ee75932807",
   "metadata": {},
   "outputs": [],
   "source": [
    "x=image.img_to_array(img)"
   ]
  },
  {
   "cell_type": "code",
   "execution_count": null,
   "id": "8feeda1f-da44-49ad-882d-712f6fb1294e",
   "metadata": {},
   "outputs": [],
   "source": [
    "x=np.expand_dims(x, axis=0)"
   ]
  },
  {
   "cell_type": "code",
   "execution_count": null,
   "id": "11bf1b6c-3534-4424-b608-ce50783c4b1f",
   "metadata": {},
   "outputs": [],
   "source": [
    "img_data=preprocess_input(x)"
   ]
  },
  {
   "cell_type": "code",
   "execution_count": null,
   "id": "ba553beb-6d36-4806-87dc-12b73a68d596",
   "metadata": {},
   "outputs": [],
   "source": [
    "classes=model.predict(img_data)"
   ]
  },
  {
   "cell_type": "code",
   "execution_count": null,
   "id": "82805175-57ce-4145-9c60-ed7a56d97ebb",
   "metadata": {},
   "outputs": [],
   "source": [
    "result=int(classes[0][0])"
   ]
  },
  {
   "cell_type": "code",
   "execution_count": null,
   "id": "77ac723d-006b-4234-8ede-be79baec633d",
   "metadata": {},
   "outputs": [],
   "source": [
    "if result==0:\n",
    "    print(\"Person is Affected By PNEUMONIA\")\n",
    "else:\n",
    "    print(\"Result is Normal\")"
   ]
  }
 ],
 "metadata": {
  "kernelspec": {
   "display_name": "tensorflow-gpu",
   "language": "python",
   "name": "tensorflow-gpu"
  },
  "language_info": {
   "codemirror_mode": {
    "name": "ipython",
    "version": 3
   },
   "file_extension": ".py",
   "mimetype": "text/x-python",
   "name": "python",
   "nbconvert_exporter": "python",
   "pygments_lexer": "ipython3",
   "version": "3.9.18"
  }
 },
 "nbformat": 4,
 "nbformat_minor": 5
}
